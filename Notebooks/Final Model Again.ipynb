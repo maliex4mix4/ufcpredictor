{
 "cells": [
  {
   "cell_type": "code",
   "execution_count": 1,
   "id": "681d77f6",
   "metadata": {},
   "outputs": [],
   "source": [
    "import numpy as np\n",
    "import pandas as pd"
   ]
  },
  {
   "cell_type": "code",
   "execution_count": 2,
   "id": "bb3ade34",
   "metadata": {},
   "outputs": [],
   "source": [
    "pd.set_option('display.max_columns', 700)\n",
    "pd.set_option('display.max_rows', 200)"
   ]
  },
  {
   "cell_type": "markdown",
   "id": "acedb6a4",
   "metadata": {},
   "source": [
    "### Utility Function"
   ]
  },
  {
   "cell_type": "code",
   "execution_count": 3,
   "id": "4edf06b9",
   "metadata": {},
   "outputs": [],
   "source": [
    "def log_progress(sequence, every=None, size=None, name='Items'):\n",
    "    from ipywidgets import IntProgress, HTML, VBox\n",
    "    from IPython.display import display\n",
    "\n",
    "    is_iterator = False\n",
    "    if size is None:\n",
    "        try:\n",
    "            size = len(sequence)\n",
    "        except TypeError:\n",
    "            is_iterator = True\n",
    "    if size is not None:\n",
    "        if every is None:\n",
    "            if size <= 200:\n",
    "                every = 1\n",
    "            else:\n",
    "                every = int(size / 200)     # every 0.5%\n",
    "    else:\n",
    "        assert every is not None, 'sequence is iterator, set every'\n",
    "\n",
    "    if is_iterator:\n",
    "        progress = IntProgress(min=0, max=1, value=1)\n",
    "        progress.bar_style = 'info'\n",
    "    else:\n",
    "        progress = IntProgress(min=0, max=size, value=0)\n",
    "    label = HTML()\n",
    "    box = VBox(children=[label, progress])\n",
    "    display(box)\n",
    "\n",
    "    index = 0\n",
    "    try:\n",
    "        for index, record in enumerate(sequence, 1):\n",
    "            if index == 1 or index % every == 0:\n",
    "                if is_iterator:\n",
    "                    label.value = '{name}: {index} / ?'.format(\n",
    "                        name=name,\n",
    "                        index=index\n",
    "                    )\n",
    "                else:\n",
    "                    progress.value = index\n",
    "                    label.value = u'{name}: {index} / {size}'.format(\n",
    "                        name=name,\n",
    "                        index=index,\n",
    "                        size=size\n",
    "                    )\n",
    "            yield record\n",
    "    except:\n",
    "        progress.bar_style = 'danger'\n",
    "        raise\n",
    "    else:\n",
    "        progress.bar_style = 'success'\n",
    "        progress.value = index\n",
    "        label.value = \"{name}: {index}\".format(\n",
    "            name=name,\n",
    "            index=str(index or '?')\n",
    "        )"
   ]
  },
  {
   "cell_type": "markdown",
   "id": "7125e842",
   "metadata": {},
   "source": [
    "### Importing Preprocessed Data"
   ]
  },
  {
   "cell_type": "code",
   "execution_count": 4,
   "id": "98c4abfb",
   "metadata": {},
   "outputs": [
    {
     "data": {
      "text/html": [
       "<div>\n",
       "<style scoped>\n",
       "    .dataframe tbody tr th:only-of-type {\n",
       "        vertical-align: middle;\n",
       "    }\n",
       "\n",
       "    .dataframe tbody tr th {\n",
       "        vertical-align: top;\n",
       "    }\n",
       "\n",
       "    .dataframe thead th {\n",
       "        text-align: right;\n",
       "    }\n",
       "</style>\n",
       "<table border=\"1\" class=\"dataframe\">\n",
       "  <thead>\n",
       "    <tr style=\"text-align: right;\">\n",
       "      <th></th>\n",
       "      <th>Events</th>\n",
       "      <th>Favourite</th>\n",
       "      <th>Underdog</th>\n",
       "      <th>Label</th>\n",
       "      <th>REACH_delta</th>\n",
       "      <th>SLPM_delta</th>\n",
       "      <th>SAPM_delta</th>\n",
       "      <th>STRA_delta</th>\n",
       "      <th>STRD_delta</th>\n",
       "      <th>TD_delta</th>\n",
       "      <th>TDA_delta</th>\n",
       "      <th>TDD_delta</th>\n",
       "      <th>SUBA_delta</th>\n",
       "      <th>Odds_delta</th>\n",
       "    </tr>\n",
       "  </thead>\n",
       "  <tbody>\n",
       "    <tr>\n",
       "      <th>0</th>\n",
       "      <td>UFC 159 - Jones vs. Sonnen</td>\n",
       "      <td>Jon Jones</td>\n",
       "      <td>Chael Sonnen</td>\n",
       "      <td>Favourite</td>\n",
       "      <td>10</td>\n",
       "      <td>1.17</td>\n",
       "      <td>0.90</td>\n",
       "      <td>0.12</td>\n",
       "      <td>0.03</td>\n",
       "      <td>-1.56</td>\n",
       "      <td>-0.07</td>\n",
       "      <td>0.28</td>\n",
       "      <td>0.2</td>\n",
       "      <td>-7.87</td>\n",
       "    </tr>\n",
       "    <tr>\n",
       "      <th>1</th>\n",
       "      <td>UFC 159 - Jones vs. Sonnen</td>\n",
       "      <td>Leonard Garcia</td>\n",
       "      <td>Cody McKenzie</td>\n",
       "      <td>Underdog</td>\n",
       "      <td>-3</td>\n",
       "      <td>1.03</td>\n",
       "      <td>2.29</td>\n",
       "      <td>-0.10</td>\n",
       "      <td>-0.15</td>\n",
       "      <td>-2.20</td>\n",
       "      <td>0.01</td>\n",
       "      <td>0.28</td>\n",
       "      <td>-2.0</td>\n",
       "      <td>1.40</td>\n",
       "    </tr>\n",
       "    <tr>\n",
       "      <th>2</th>\n",
       "      <td>UFC Fight Night 34 - Saffiedine vs. Lim</td>\n",
       "      <td>Mairbek Taisumov</td>\n",
       "      <td>Tae Hyun Bang</td>\n",
       "      <td>Favourite</td>\n",
       "      <td>2</td>\n",
       "      <td>0.54</td>\n",
       "      <td>0.08</td>\n",
       "      <td>0.05</td>\n",
       "      <td>-0.05</td>\n",
       "      <td>1.75</td>\n",
       "      <td>0.44</td>\n",
       "      <td>0.28</td>\n",
       "      <td>-0.5</td>\n",
       "      <td>-2.89</td>\n",
       "    </tr>\n",
       "    <tr>\n",
       "      <th>3</th>\n",
       "      <td>UFC Fight Night 91 - McDonald vs. Lineker</td>\n",
       "      <td>Cody Pfister</td>\n",
       "      <td>Scott Holtzman</td>\n",
       "      <td>Underdog</td>\n",
       "      <td>4</td>\n",
       "      <td>-3.15</td>\n",
       "      <td>-0.85</td>\n",
       "      <td>-0.24</td>\n",
       "      <td>-0.06</td>\n",
       "      <td>0.55</td>\n",
       "      <td>-0.27</td>\n",
       "      <td>-0.58</td>\n",
       "      <td>-0.4</td>\n",
       "      <td>6.89</td>\n",
       "    </tr>\n",
       "    <tr>\n",
       "      <th>4</th>\n",
       "      <td>UFC Fight Night 91 - McDonald vs. Lineker</td>\n",
       "      <td>Matthew Lopez</td>\n",
       "      <td>Rani Yahya</td>\n",
       "      <td>Underdog</td>\n",
       "      <td>2</td>\n",
       "      <td>0.02</td>\n",
       "      <td>0.86</td>\n",
       "      <td>0.13</td>\n",
       "      <td>-0.06</td>\n",
       "      <td>-0.08</td>\n",
       "      <td>0.51</td>\n",
       "      <td>0.37</td>\n",
       "      <td>-0.5</td>\n",
       "      <td>0.81</td>\n",
       "    </tr>\n",
       "  </tbody>\n",
       "</table>\n",
       "</div>"
      ],
      "text/plain": [
       "                                      Events         Favourite  \\\n",
       "0                 UFC 159 - Jones vs. Sonnen         Jon Jones   \n",
       "1                 UFC 159 - Jones vs. Sonnen    Leonard Garcia   \n",
       "2    UFC Fight Night 34 - Saffiedine vs. Lim  Mairbek Taisumov   \n",
       "3  UFC Fight Night 91 - McDonald vs. Lineker      Cody Pfister   \n",
       "4  UFC Fight Night 91 - McDonald vs. Lineker     Matthew Lopez   \n",
       "\n",
       "         Underdog      Label  REACH_delta  SLPM_delta  SAPM_delta  STRA_delta  \\\n",
       "0    Chael Sonnen  Favourite           10        1.17        0.90        0.12   \n",
       "1   Cody McKenzie   Underdog           -3        1.03        2.29       -0.10   \n",
       "2   Tae Hyun Bang  Favourite            2        0.54        0.08        0.05   \n",
       "3  Scott Holtzman   Underdog            4       -3.15       -0.85       -0.24   \n",
       "4      Rani Yahya   Underdog            2        0.02        0.86        0.13   \n",
       "\n",
       "   STRD_delta  TD_delta  TDA_delta  TDD_delta  SUBA_delta  Odds_delta  \n",
       "0        0.03     -1.56      -0.07       0.28         0.2       -7.87  \n",
       "1       -0.15     -2.20       0.01       0.28        -2.0        1.40  \n",
       "2       -0.05      1.75       0.44       0.28        -0.5       -2.89  \n",
       "3       -0.06      0.55      -0.27      -0.58        -0.4        6.89  \n",
       "4       -0.06     -0.08       0.51       0.37        -0.5        0.81  "
      ]
     },
     "execution_count": 4,
     "metadata": {},
     "output_type": "execute_result"
    }
   ],
   "source": [
    "df = pd.read_csv('../Data/Cleansed_Data.csv')\n",
    "df = df.drop('Sum_delta', axis=1)\n",
    "df.head()"
   ]
  },
  {
   "cell_type": "code",
   "execution_count": 21,
   "id": "4866e4c0",
   "metadata": {},
   "outputs": [],
   "source": [
    "import matplotlib.pyplot as plt\n",
    "import seaborn as sns\n",
    "from sklearn.ensemble import RandomForestClassifier\n",
    "from sklearn.tree import DecisionTreeClassifier\n",
    "from sklearn.linear_model import LogisticRegression\n",
    "from sklearn.neighbors import KNeighborsClassifier\n",
    "from sklearn.neural_network import MLPClassifier\n",
    "from sklearn.model_selection import GridSearchCV, train_test_split, cross_val_score, cross_val_predict\n",
    "from sklearn.feature_selection import RFECV\n",
    "from sklearn.metrics import roc_auc_score, classification_report, make_scorer, accuracy_score, recall_score, f1_score"
   ]
  },
  {
   "cell_type": "markdown",
   "id": "a6514a61",
   "metadata": {},
   "source": [
    "#### Brief Insights"
   ]
  },
  {
   "cell_type": "code",
   "execution_count": 6,
   "id": "2091e5d6",
   "metadata": {},
   "outputs": [
    {
     "data": {
      "text/plain": [
       "(1315, 14)"
      ]
     },
     "execution_count": 6,
     "metadata": {},
     "output_type": "execute_result"
    }
   ],
   "source": [
    "df.shape"
   ]
  },
  {
   "cell_type": "code",
   "execution_count": 7,
   "id": "aadb32af",
   "metadata": {},
   "outputs": [
    {
     "data": {
      "text/plain": [
       "Events          object\n",
       "Favourite       object\n",
       "Underdog        object\n",
       "Label           object\n",
       "REACH_delta      int64\n",
       "SLPM_delta     float64\n",
       "SAPM_delta     float64\n",
       "STRA_delta     float64\n",
       "STRD_delta     float64\n",
       "TD_delta       float64\n",
       "TDA_delta      float64\n",
       "TDD_delta      float64\n",
       "SUBA_delta     float64\n",
       "Odds_delta     float64\n",
       "dtype: object"
      ]
     },
     "execution_count": 7,
     "metadata": {},
     "output_type": "execute_result"
    }
   ],
   "source": [
    "df.dtypes"
   ]
  },
  {
   "cell_type": "code",
   "execution_count": 8,
   "id": "4aec5f12",
   "metadata": {},
   "outputs": [
    {
     "data": {
      "text/plain": [
       "Events         0\n",
       "Favourite      0\n",
       "Underdog       0\n",
       "Label          0\n",
       "REACH_delta    0\n",
       "SLPM_delta     0\n",
       "SAPM_delta     0\n",
       "STRA_delta     0\n",
       "STRD_delta     0\n",
       "TD_delta       0\n",
       "TDA_delta      0\n",
       "TDD_delta      0\n",
       "SUBA_delta     0\n",
       "Odds_delta     0\n",
       "dtype: int64"
      ]
     },
     "execution_count": 8,
     "metadata": {},
     "output_type": "execute_result"
    }
   ],
   "source": [
    "df.isna().sum()"
   ]
  },
  {
   "cell_type": "code",
   "execution_count": 9,
   "id": "23712997",
   "metadata": {},
   "outputs": [
    {
     "data": {
      "text/plain": [
       "Favourite    0.627376\n",
       "Underdog     0.372624\n",
       "Name: Label, dtype: float64"
      ]
     },
     "execution_count": 9,
     "metadata": {},
     "output_type": "execute_result"
    }
   ],
   "source": [
    "df['Label'].value_counts()/df.shape[0]"
   ]
  },
  {
   "cell_type": "markdown",
   "id": "a7e121b7",
   "metadata": {},
   "source": [
    "#### We can see that in a total of 1315 entries there are 62.74% Favourites"
   ]
  },
  {
   "cell_type": "code",
   "execution_count": 11,
   "id": "cd4ad60a",
   "metadata": {},
   "outputs": [
    {
     "data": {
      "text/plain": [
       "<AxesSubplot:>"
      ]
     },
     "execution_count": 11,
     "metadata": {},
     "output_type": "execute_result"
    },
    {
     "data": {
      "image/png": "[encoded data removed]",
      "text/plain": [
       "<Figure size 432x288 with 1 Axes>"
      ]
     },
     "metadata": {
      "needs_background": "light"
     },
     "output_type": "display_data"
    }
   ],
   "source": [
    "(df['Label'].value_counts()/df.shape[0]).plot(kind='bar', rot=0)"
   ]
  },
  {
   "cell_type": "markdown",
   "id": "a3921ab6",
   "metadata": {},
   "source": [
    "Encoding the target variable"
   ]
  },
  {
   "cell_type": "code",
   "execution_count": 12,
   "id": "f7c55ae5",
   "metadata": {},
   "outputs": [],
   "source": [
    "df['Label'] = df['Label'].map(lambda x: 0 if x == 'Underdog' else 1)"
   ]
  },
  {
   "cell_type": "markdown",
   "id": "7b476656",
   "metadata": {},
   "source": [
    "# Feature Selection\n",
    "\n",
    "* simplification of models to make them easier to interpret\n",
    "* shorter training times (applicable to very huge datasets)\n",
    "* to avoid the curse of dimensionality \n",
    "* enhanced generalization by reducing overfitting (reduction of variance)\n",
    "\n",
    "From RFECV and Feature Importance as validation, we know:\n",
    "* The 6 most important features are **'SLPM_delta', 'SAPM_delta', 'STRD_delta', 'TDD_delta', 'SUBA_delta', 'Odds_delta'**"
   ]
  },
  {
   "cell_type": "code",
   "execution_count": 13,
   "id": "cf490775",
   "metadata": {},
   "outputs": [],
   "source": [
    "def select_features(df):\n",
    "    all_X = df.drop(['Events', 'Favourite', 'Underdog', 'Label'], axis=1)\n",
    "    all_y = df['Label']\n",
    "    \n",
    "    clf = RandomForestClassifier(random_state=1)\n",
    "    selector = RFECV(clf)\n",
    "    selector.fit(all_X, all_y)\n",
    "    best_columns = list(all_X.columns[selector.support_])\n",
    "    print('Best Columns \\n' + '-'*12 + '\\n' + '{}'.format(best_columns))\n",
    "    \n",
    "    return best_columns"
   ]
  },
  {
   "cell_type": "markdown",
   "id": "9abd6fc5",
   "metadata": {},
   "source": [
    "## Recursive Feature Elimination with Cross Validation (RFECV)\n",
    "\n",
    "The features will be selected based on Recursive Feature Elimination with Cross Validation [**(RFECV)**](http://scikit-learn.org/stable/modules/generated/sklearn.feature_selection.RFECV.html). Recursive Feature Elimination (RFE) works by training the model, evaluating it, then removing the least significant features, and repeating."
   ]
  },
  {
   "cell_type": "code",
   "execution_count": 14,
   "id": "10c5dd80",
   "metadata": {},
   "outputs": [
    {
     "name": "stdout",
     "output_type": "stream",
     "text": [
      "Best Columns \n",
      "------------\n",
      "['SLPM_delta', 'SAPM_delta', 'STRD_delta', 'TDD_delta', 'SUBA_delta', 'Odds_delta']\n"
     ]
    }
   ],
   "source": [
    "best_cols = select_features(df)"
   ]
  },
  {
   "cell_type": "markdown",
   "id": "745ad86a",
   "metadata": {},
   "source": [
    "## Feature Importance\n",
    "\n",
    "* Not suprising **Reach_delta** is of least importance since reach does not really determine a clear winner"
   ]
  },
  {
   "cell_type": "code",
   "execution_count": 15,
   "id": "66bd2044",
   "metadata": {},
   "outputs": [
    {
     "data": {
      "image/png": "[encoded data removed]",
      "text/plain": [
       "<Figure size 864x432 with 1 Axes>"
      ]
     },
     "metadata": {},
     "output_type": "display_data"
    }
   ],
   "source": [
    "plt.style.use('fivethirtyeight')\n",
    "plt.rcParams['figure.figsize'] = (12,6)\n",
    "\n",
    "# Create train and test splits\n",
    "target_name = 'Label'\n",
    "X = df.drop(['Events', 'Favourite', 'Underdog', 'Label'], axis=1)\n",
    "\n",
    "\n",
    "y=df[target_name]\n",
    "\n",
    "X_train, X_test, y_train, y_test = train_test_split(X,y,test_size=0.15, random_state=1, stratify=y)\n",
    "\n",
    "dtree = RandomForestClassifier(\n",
    "    #max_depth=3,\n",
    "    random_state = 1,\n",
    "    class_weight=\"balanced\",\n",
    "    min_weight_fraction_leaf=0.01\n",
    "    )\n",
    "dtree = dtree.fit(X_train,y_train)\n",
    "\n",
    "## plot the importances ##\n",
    "importances = dtree.feature_importances_\n",
    "feat_names = df.drop(['Events', 'Favourite', 'Underdog', 'Label'], axis=1).columns\n",
    "\n",
    "\n",
    "indices = np.argsort(importances)[::-1]\n",
    "plt.figure(figsize=(12,6))\n",
    "plt.title(\"Feature importances by DecisionTreeClassifier\")\n",
    "plt.bar(range(len(indices)), importances[indices], color='lightblue',  align=\"center\")\n",
    "plt.step(range(len(indices)), np.cumsum(importances[indices]), where='mid', label='Cumulative')\n",
    "plt.xticks(range(len(indices)), feat_names[indices], rotation='vertical',fontsize=14)\n",
    "plt.xlim([-1, len(indices)])\n",
    "plt.show()"
   ]
  },
  {
   "cell_type": "code",
   "execution_count": 51,
   "id": "47019ca7",
   "metadata": {},
   "outputs": [],
   "source": [
    "from imblearn.over_sampling import SMOTE"
   ]
  },
  {
   "cell_type": "markdown",
   "id": "f2eddfdb",
   "metadata": {},
   "source": [
    "# Building and saving final Model\n",
    "\n",
    "* The final model selected, Neural Network (MLP) to predict winners from Favourite and Underdog has an **accuracy of ~80.01%**\n"
   ]
  },
  {
   "cell_type": "code",
   "execution_count": 48,
   "id": "2366a634",
   "metadata": {},
   "outputs": [],
   "source": [
    "y = df['Label']\n",
    "X = df[best_cols]"
   ]
  },
  {
   "cell_type": "code",
   "execution_count": 53,
   "id": "b10169e1",
   "metadata": {},
   "outputs": [
    {
     "name": "stderr",
     "output_type": "stream",
     "text": [
      "c:\\users\\maliex\\appdata\\local\\programs\\python\\python39\\lib\\site-packages\\sklearn\\neural_network\\_multilayer_perceptron.py:614: ConvergenceWarning: Stochastic Optimizer: Maximum iterations (200) reached and the optimization hasn't converged yet.\n",
      "  warnings.warn(\n"
     ]
    },
    {
     "data": {
      "text/plain": [
       "MLPClassifier(random_state=27)"
      ]
     },
     "execution_count": 53,
     "metadata": {},
     "output_type": "execute_result"
    }
   ],
   "source": [
    "sm = SMOTE(random_state=27)\n",
    "X, y = sm.fit_resample(X, y)\n",
    "\n",
    "mlp = MLPClassifier(random_state=27, activation='relu', learning_rate='constant', solver='adam')\n",
    "\n",
    "mlp.fit(X, y)"
   ]
  },
  {
   "cell_type": "code",
   "execution_count": 54,
   "id": "b25cb191",
   "metadata": {},
   "outputs": [],
   "source": [
    "import pickle"
   ]
  },
  {
   "cell_type": "code",
   "execution_count": null,
   "id": "b07811e3",
   "metadata": {},
   "outputs": [],
   "source": []
  }
 ],
 "metadata": {
  "kernelspec": {
   "display_name": "Python 3",
   "language": "python",
   "name": "python3"
  },
  "language_info": {
   "codemirror_mode": {
    "name": "ipython",
    "version": 3
   },
   "file_extension": ".py",
   "mimetype": "text/x-python",
   "name": "python",
   "nbconvert_exporter": "python",
   "pygments_lexer": "ipython3",
   "version": "3.9.5"
  }
 },
 "nbformat": 4,
 "nbformat_minor": 5
}
