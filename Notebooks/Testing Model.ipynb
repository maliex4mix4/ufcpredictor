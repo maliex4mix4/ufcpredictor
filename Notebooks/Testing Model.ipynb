{
 "cells": [
  {
   "cell_type": "code",
   "execution_count": 1,
   "id": "ff85294f",
   "metadata": {},
   "outputs": [],
   "source": [
    "import numpy as np\n",
    "import pandas as pd\n",
    "import seaborn as sns\n",
    "import matplotlib.pyplot as plt"
   ]
  },
  {
   "cell_type": "code",
   "execution_count": 2,
   "id": "c3391383",
   "metadata": {},
   "outputs": [],
   "source": [
    "pd.set_option('display.max_columns', 700)"
   ]
  },
  {
   "cell_type": "code",
   "execution_count": 3,
   "id": "3c4ef9a4",
   "metadata": {},
   "outputs": [],
   "source": [
    "df = pd.read_csv('../Data/prediction_data.csv', index_col='Unnamed: 0')"
   ]
  },
  {
   "cell_type": "code",
   "execution_count": 4,
   "id": "426dd608",
   "metadata": {},
   "outputs": [],
   "source": [
    "df.drop('attended', axis=1, inplace=True)"
   ]
  },
  {
   "cell_type": "code",
   "execution_count": 5,
   "id": "686cae26",
   "metadata": {},
   "outputs": [],
   "source": [
    "df_copy = df.dropna()"
   ]
  },
  {
   "cell_type": "code",
   "execution_count": 6,
   "id": "09d883b7",
   "metadata": {},
   "outputs": [],
   "source": [
    "final_df = pd.get_dummies(df_copy.drop(['fighter1', 'fighter2'], axis=1))"
   ]
  },
  {
   "cell_type": "code",
   "execution_count": 7,
   "id": "5ca93a1f",
   "metadata": {},
   "outputs": [],
   "source": [
    "# Importng \n",
    "\n",
    "from sklearn.metrics import f1_score, accuracy_score\n",
    "from sklearn.model_selection import train_test_split\n",
    "from sklearn.ensemble import RandomForestClassifier\n",
    "from xgboost import XGBClassifier\n",
    "from sklearn.linear_model import LogisticRegression\n",
    "from catboost import CatBoostClassifier"
   ]
  },
  {
   "cell_type": "code",
   "execution_count": 8,
   "id": "4736f698",
   "metadata": {},
   "outputs": [],
   "source": [
    "X = final_df.drop('winner', axis=1)\n",
    "Y = final_df['winner']"
   ]
  },
  {
   "cell_type": "code",
   "execution_count": 9,
   "id": "b8ad4a9e",
   "metadata": {},
   "outputs": [],
   "source": [
    "x_train, x_test, y_train, y_test = train_test_split(X, Y, test_size=.50, random_state=45)"
   ]
  },
  {
   "cell_type": "code",
   "execution_count": 19,
   "id": "fad3c9ed",
   "metadata": {},
   "outputs": [
    {
     "name": "stdout",
     "output_type": "stream",
     "text": [
      "Learning rate set to 0.05956\n",
      "0:\tlearn: 0.6843506\ttotal: 142ms\tremaining: 28.3s\n",
      "1:\tlearn: 0.6742833\ttotal: 168ms\tremaining: 16.7s\n",
      "2:\tlearn: 0.6663820\ttotal: 200ms\tremaining: 13.1s\n",
      "3:\tlearn: 0.6598055\ttotal: 219ms\tremaining: 10.8s\n",
      "4:\tlearn: 0.6513939\ttotal: 246ms\tremaining: 9.61s\n",
      "5:\tlearn: 0.6447346\ttotal: 262ms\tremaining: 8.48s\n",
      "6:\tlearn: 0.6394693\ttotal: 276ms\tremaining: 7.6s\n",
      "7:\tlearn: 0.6335503\ttotal: 289ms\tremaining: 6.95s\n",
      "8:\tlearn: 0.6277875\ttotal: 305ms\tremaining: 6.48s\n",
      "9:\tlearn: 0.6233940\ttotal: 320ms\tremaining: 6.08s\n",
      "10:\tlearn: 0.6204283\ttotal: 334ms\tremaining: 5.74s\n",
      "11:\tlearn: 0.6166873\ttotal: 356ms\tremaining: 5.57s\n",
      "12:\tlearn: 0.6102988\ttotal: 372ms\tremaining: 5.35s\n",
      "13:\tlearn: 0.6057012\ttotal: 385ms\tremaining: 5.12s\n",
      "14:\tlearn: 0.6022033\ttotal: 400ms\tremaining: 4.93s\n",
      "15:\tlearn: 0.5982740\ttotal: 412ms\tremaining: 4.74s\n",
      "16:\tlearn: 0.5952102\ttotal: 424ms\tremaining: 4.56s\n",
      "17:\tlearn: 0.5916994\ttotal: 435ms\tremaining: 4.4s\n",
      "18:\tlearn: 0.5858635\ttotal: 447ms\tremaining: 4.26s\n",
      "19:\tlearn: 0.5825932\ttotal: 458ms\tremaining: 4.12s\n",
      "20:\tlearn: 0.5794509\ttotal: 471ms\tremaining: 4.01s\n",
      "21:\tlearn: 0.5769459\ttotal: 482ms\tremaining: 3.9s\n",
      "22:\tlearn: 0.5742219\ttotal: 494ms\tremaining: 3.8s\n",
      "23:\tlearn: 0.5718806\ttotal: 505ms\tremaining: 3.7s\n",
      "24:\tlearn: 0.5688209\ttotal: 533ms\tremaining: 3.73s\n",
      "25:\tlearn: 0.5666682\ttotal: 545ms\tremaining: 3.65s\n",
      "26:\tlearn: 0.5637506\ttotal: 557ms\tremaining: 3.57s\n",
      "27:\tlearn: 0.5596762\ttotal: 569ms\tremaining: 3.5s\n",
      "28:\tlearn: 0.5574828\ttotal: 581ms\tremaining: 3.42s\n",
      "29:\tlearn: 0.5549582\ttotal: 592ms\tremaining: 3.35s\n",
      "30:\tlearn: 0.5488099\ttotal: 604ms\tremaining: 3.29s\n",
      "31:\tlearn: 0.5472814\ttotal: 616ms\tremaining: 3.23s\n",
      "32:\tlearn: 0.5449225\ttotal: 628ms\tremaining: 3.18s\n",
      "33:\tlearn: 0.5430742\ttotal: 639ms\tremaining: 3.12s\n",
      "34:\tlearn: 0.5412716\ttotal: 650ms\tremaining: 3.06s\n",
      "35:\tlearn: 0.5378659\ttotal: 662ms\tremaining: 3.01s\n",
      "36:\tlearn: 0.5356363\ttotal: 673ms\tremaining: 2.96s\n",
      "37:\tlearn: 0.5337770\ttotal: 684ms\tremaining: 2.92s\n",
      "38:\tlearn: 0.5320419\ttotal: 704ms\tremaining: 2.9s\n",
      "39:\tlearn: 0.5291944\ttotal: 732ms\tremaining: 2.93s\n",
      "40:\tlearn: 0.5270455\ttotal: 754ms\tremaining: 2.92s\n",
      "41:\tlearn: 0.5249020\ttotal: 787ms\tremaining: 2.96s\n",
      "42:\tlearn: 0.5229268\ttotal: 807ms\tremaining: 2.95s\n",
      "43:\tlearn: 0.5206038\ttotal: 825ms\tremaining: 2.92s\n",
      "44:\tlearn: 0.5190074\ttotal: 882ms\tremaining: 3.04s\n",
      "45:\tlearn: 0.5181006\ttotal: 901ms\tremaining: 3.01s\n",
      "46:\tlearn: 0.5161115\ttotal: 954ms\tremaining: 3.1s\n",
      "47:\tlearn: 0.5143098\ttotal: 973ms\tremaining: 3.08s\n",
      "48:\tlearn: 0.5131611\ttotal: 987ms\tremaining: 3.04s\n",
      "49:\tlearn: 0.5107088\ttotal: 1s\tremaining: 3s\n",
      "50:\tlearn: 0.5091476\ttotal: 1.01s\tremaining: 2.96s\n",
      "51:\tlearn: 0.5078972\ttotal: 1.03s\tremaining: 2.93s\n",
      "52:\tlearn: 0.5056900\ttotal: 1.04s\tremaining: 2.89s\n",
      "53:\tlearn: 0.5044484\ttotal: 1.05s\tremaining: 2.85s\n",
      "54:\tlearn: 0.5030923\ttotal: 1.08s\tremaining: 2.85s\n",
      "55:\tlearn: 0.5015096\ttotal: 1.1s\tremaining: 2.82s\n",
      "56:\tlearn: 0.4993991\ttotal: 1.11s\tremaining: 2.79s\n",
      "57:\tlearn: 0.4963724\ttotal: 1.12s\tremaining: 2.75s\n",
      "58:\tlearn: 0.4941612\ttotal: 1.13s\tremaining: 2.71s\n",
      "59:\tlearn: 0.4929272\ttotal: 1.15s\tremaining: 2.68s\n",
      "60:\tlearn: 0.4900827\ttotal: 1.16s\tremaining: 2.65s\n",
      "61:\tlearn: 0.4884998\ttotal: 1.18s\tremaining: 2.62s\n",
      "62:\tlearn: 0.4857946\ttotal: 1.19s\tremaining: 2.59s\n",
      "63:\tlearn: 0.4843247\ttotal: 1.21s\tremaining: 2.56s\n",
      "64:\tlearn: 0.4830952\ttotal: 1.22s\tremaining: 2.53s\n",
      "65:\tlearn: 0.4820413\ttotal: 1.23s\tremaining: 2.5s\n",
      "66:\tlearn: 0.4809969\ttotal: 1.25s\tremaining: 2.49s\n",
      "67:\tlearn: 0.4798334\ttotal: 1.27s\tremaining: 2.47s\n",
      "68:\tlearn: 0.4787025\ttotal: 1.29s\tremaining: 2.45s\n",
      "69:\tlearn: 0.4771826\ttotal: 1.3s\tremaining: 2.42s\n",
      "70:\tlearn: 0.4759908\ttotal: 1.32s\tremaining: 2.39s\n",
      "71:\tlearn: 0.4748854\ttotal: 1.33s\tremaining: 2.36s\n",
      "72:\tlearn: 0.4737087\ttotal: 1.34s\tremaining: 2.33s\n",
      "73:\tlearn: 0.4723961\ttotal: 1.35s\tremaining: 2.3s\n",
      "74:\tlearn: 0.4714969\ttotal: 1.36s\tremaining: 2.28s\n",
      "75:\tlearn: 0.4687693\ttotal: 1.39s\tremaining: 2.27s\n",
      "76:\tlearn: 0.4677847\ttotal: 1.41s\tremaining: 2.25s\n",
      "77:\tlearn: 0.4656110\ttotal: 1.43s\tremaining: 2.24s\n",
      "78:\tlearn: 0.4626034\ttotal: 1.45s\tremaining: 2.23s\n",
      "79:\tlearn: 0.4603373\ttotal: 1.47s\tremaining: 2.2s\n",
      "80:\tlearn: 0.4593429\ttotal: 1.48s\tremaining: 2.17s\n",
      "81:\tlearn: 0.4580720\ttotal: 1.49s\tremaining: 2.15s\n",
      "82:\tlearn: 0.4572840\ttotal: 1.5s\tremaining: 2.12s\n",
      "83:\tlearn: 0.4557394\ttotal: 1.51s\tremaining: 2.09s\n",
      "84:\tlearn: 0.4537194\ttotal: 1.52s\tremaining: 2.06s\n",
      "85:\tlearn: 0.4525946\ttotal: 1.54s\tremaining: 2.04s\n",
      "86:\tlearn: 0.4503423\ttotal: 1.55s\tremaining: 2.01s\n",
      "87:\tlearn: 0.4490606\ttotal: 1.56s\tremaining: 1.99s\n",
      "88:\tlearn: 0.4481758\ttotal: 1.57s\tremaining: 1.96s\n",
      "89:\tlearn: 0.4470011\ttotal: 1.58s\tremaining: 1.93s\n",
      "90:\tlearn: 0.4455032\ttotal: 1.59s\tremaining: 1.91s\n",
      "91:\tlearn: 0.4425185\ttotal: 1.61s\tremaining: 1.89s\n",
      "92:\tlearn: 0.4412914\ttotal: 1.62s\tremaining: 1.86s\n",
      "93:\tlearn: 0.4400039\ttotal: 1.63s\tremaining: 1.84s\n",
      "94:\tlearn: 0.4390297\ttotal: 1.65s\tremaining: 1.82s\n",
      "95:\tlearn: 0.4368726\ttotal: 1.67s\tremaining: 1.81s\n",
      "96:\tlearn: 0.4361004\ttotal: 1.68s\tremaining: 1.78s\n",
      "97:\tlearn: 0.4348797\ttotal: 1.7s\tremaining: 1.77s\n",
      "98:\tlearn: 0.4341003\ttotal: 1.71s\tremaining: 1.75s\n",
      "99:\tlearn: 0.4331436\ttotal: 1.73s\tremaining: 1.73s\n",
      "100:\tlearn: 0.4315105\ttotal: 1.75s\tremaining: 1.71s\n",
      "101:\tlearn: 0.4300890\ttotal: 1.76s\tremaining: 1.69s\n",
      "102:\tlearn: 0.4287239\ttotal: 1.77s\tremaining: 1.67s\n",
      "103:\tlearn: 0.4259482\ttotal: 1.78s\tremaining: 1.65s\n",
      "104:\tlearn: 0.4254439\ttotal: 1.79s\tremaining: 1.62s\n",
      "105:\tlearn: 0.4244882\ttotal: 1.81s\tremaining: 1.6s\n",
      "106:\tlearn: 0.4231297\ttotal: 1.83s\tremaining: 1.59s\n",
      "107:\tlearn: 0.4219115\ttotal: 1.85s\tremaining: 1.57s\n",
      "108:\tlearn: 0.4211407\ttotal: 1.87s\tremaining: 1.56s\n",
      "109:\tlearn: 0.4199620\ttotal: 1.88s\tremaining: 1.54s\n",
      "110:\tlearn: 0.4187183\ttotal: 1.89s\tremaining: 1.52s\n",
      "111:\tlearn: 0.4177727\ttotal: 1.9s\tremaining: 1.5s\n",
      "112:\tlearn: 0.4165957\ttotal: 1.92s\tremaining: 1.47s\n",
      "113:\tlearn: 0.4154001\ttotal: 1.93s\tremaining: 1.45s\n",
      "114:\tlearn: 0.4141458\ttotal: 1.94s\tremaining: 1.43s\n",
      "115:\tlearn: 0.4129530\ttotal: 1.95s\tremaining: 1.41s\n",
      "116:\tlearn: 0.4118128\ttotal: 1.96s\tremaining: 1.39s\n",
      "117:\tlearn: 0.4104542\ttotal: 1.97s\tremaining: 1.37s\n",
      "118:\tlearn: 0.4096408\ttotal: 1.98s\tremaining: 1.35s\n",
      "119:\tlearn: 0.4077947\ttotal: 1.99s\tremaining: 1.33s\n",
      "120:\tlearn: 0.4072149\ttotal: 2.02s\tremaining: 1.31s\n",
      "121:\tlearn: 0.4055415\ttotal: 2.03s\tremaining: 1.3s\n",
      "122:\tlearn: 0.4040585\ttotal: 2.04s\tremaining: 1.28s\n",
      "123:\tlearn: 0.4033047\ttotal: 2.06s\tremaining: 1.26s\n",
      "124:\tlearn: 0.4017775\ttotal: 2.07s\tremaining: 1.24s\n",
      "125:\tlearn: 0.4010441\ttotal: 2.08s\tremaining: 1.22s\n",
      "126:\tlearn: 0.3996763\ttotal: 2.09s\tremaining: 1.2s\n",
      "127:\tlearn: 0.3989480\ttotal: 2.11s\tremaining: 1.19s\n",
      "128:\tlearn: 0.3976083\ttotal: 2.12s\tremaining: 1.17s\n",
      "129:\tlearn: 0.3966278\ttotal: 2.14s\tremaining: 1.15s\n",
      "130:\tlearn: 0.3950312\ttotal: 2.15s\tremaining: 1.13s\n",
      "131:\tlearn: 0.3934886\ttotal: 2.16s\tremaining: 1.11s\n",
      "132:\tlearn: 0.3924733\ttotal: 2.18s\tremaining: 1.1s\n",
      "133:\tlearn: 0.3906626\ttotal: 2.2s\tremaining: 1.08s\n",
      "134:\tlearn: 0.3895782\ttotal: 2.22s\tremaining: 1.07s\n",
      "135:\tlearn: 0.3882576\ttotal: 2.23s\tremaining: 1.05s\n",
      "136:\tlearn: 0.3873174\ttotal: 2.25s\tremaining: 1.03s\n",
      "137:\tlearn: 0.3857884\ttotal: 2.26s\tremaining: 1.01s\n",
      "138:\tlearn: 0.3848276\ttotal: 2.27s\tremaining: 997ms\n",
      "139:\tlearn: 0.3829457\ttotal: 2.29s\tremaining: 980ms\n",
      "140:\tlearn: 0.3816445\ttotal: 2.3s\tremaining: 962ms\n",
      "141:\tlearn: 0.3805104\ttotal: 2.31s\tremaining: 944ms\n",
      "142:\tlearn: 0.3792375\ttotal: 2.32s\tremaining: 926ms\n",
      "143:\tlearn: 0.3773149\ttotal: 2.33s\tremaining: 908ms\n",
      "144:\tlearn: 0.3765467\ttotal: 2.35s\tremaining: 891ms\n",
      "145:\tlearn: 0.3755276\ttotal: 2.36s\tremaining: 873ms\n",
      "146:\tlearn: 0.3751374\ttotal: 2.38s\tremaining: 859ms\n",
      "147:\tlearn: 0.3733421\ttotal: 2.41s\tremaining: 846ms\n",
      "148:\tlearn: 0.3724625\ttotal: 2.43s\tremaining: 831ms\n",
      "149:\tlearn: 0.3712365\ttotal: 2.45s\tremaining: 816ms\n",
      "150:\tlearn: 0.3694842\ttotal: 2.47s\tremaining: 801ms\n",
      "151:\tlearn: 0.3680998\ttotal: 2.48s\tremaining: 784ms\n",
      "152:\tlearn: 0.3671291\ttotal: 2.5s\tremaining: 767ms\n",
      "153:\tlearn: 0.3655985\ttotal: 2.51s\tremaining: 749ms\n",
      "154:\tlearn: 0.3636564\ttotal: 2.52s\tremaining: 732ms\n",
      "155:\tlearn: 0.3624123\ttotal: 2.53s\tremaining: 714ms\n",
      "156:\tlearn: 0.3613270\ttotal: 2.54s\tremaining: 697ms\n",
      "157:\tlearn: 0.3603911\ttotal: 2.56s\tremaining: 681ms\n",
      "158:\tlearn: 0.3592077\ttotal: 2.58s\tremaining: 666ms\n",
      "159:\tlearn: 0.3574033\ttotal: 2.6s\tremaining: 650ms\n",
      "160:\tlearn: 0.3564784\ttotal: 2.61s\tremaining: 633ms\n",
      "161:\tlearn: 0.3542378\ttotal: 2.63s\tremaining: 616ms\n",
      "162:\tlearn: 0.3529793\ttotal: 2.65s\tremaining: 600ms\n",
      "163:\tlearn: 0.3514889\ttotal: 2.66s\tremaining: 584ms\n",
      "164:\tlearn: 0.3504495\ttotal: 2.67s\tremaining: 567ms\n",
      "165:\tlearn: 0.3488907\ttotal: 2.69s\tremaining: 550ms\n",
      "166:\tlearn: 0.3480555\ttotal: 2.7s\tremaining: 533ms\n",
      "167:\tlearn: 0.3473906\ttotal: 2.71s\tremaining: 516ms\n",
      "168:\tlearn: 0.3470960\ttotal: 2.72s\tremaining: 499ms\n"
     ]
    },
    {
     "name": "stdout",
     "output_type": "stream",
     "text": [
      "169:\tlearn: 0.3459765\ttotal: 2.74s\tremaining: 484ms\n",
      "170:\tlearn: 0.3450853\ttotal: 2.76s\tremaining: 468ms\n",
      "171:\tlearn: 0.3429485\ttotal: 2.77s\tremaining: 451ms\n",
      "172:\tlearn: 0.3417604\ttotal: 2.79s\tremaining: 435ms\n",
      "173:\tlearn: 0.3412718\ttotal: 2.8s\tremaining: 418ms\n",
      "174:\tlearn: 0.3397459\ttotal: 2.82s\tremaining: 402ms\n",
      "175:\tlearn: 0.3381159\ttotal: 2.83s\tremaining: 386ms\n",
      "176:\tlearn: 0.3379010\ttotal: 2.85s\tremaining: 370ms\n",
      "177:\tlearn: 0.3375027\ttotal: 2.86s\tremaining: 353ms\n",
      "178:\tlearn: 0.3363648\ttotal: 2.88s\tremaining: 337ms\n",
      "179:\tlearn: 0.3349002\ttotal: 2.89s\tremaining: 321ms\n",
      "180:\tlearn: 0.3325461\ttotal: 2.9s\tremaining: 305ms\n",
      "181:\tlearn: 0.3317413\ttotal: 2.92s\tremaining: 289ms\n",
      "182:\tlearn: 0.3295640\ttotal: 2.94s\tremaining: 273ms\n",
      "183:\tlearn: 0.3277199\ttotal: 2.95s\tremaining: 257ms\n",
      "184:\tlearn: 0.3269251\ttotal: 2.97s\tremaining: 240ms\n",
      "185:\tlearn: 0.3259548\ttotal: 2.98s\tremaining: 224ms\n",
      "186:\tlearn: 0.3250168\ttotal: 2.99s\tremaining: 208ms\n",
      "187:\tlearn: 0.3248985\ttotal: 3s\tremaining: 192ms\n",
      "188:\tlearn: 0.3232009\ttotal: 3.01s\tremaining: 175ms\n",
      "189:\tlearn: 0.3221445\ttotal: 3.02s\tremaining: 159ms\n",
      "190:\tlearn: 0.3208594\ttotal: 3.04s\tremaining: 143ms\n",
      "191:\tlearn: 0.3197088\ttotal: 3.05s\tremaining: 127ms\n",
      "192:\tlearn: 0.3185096\ttotal: 3.06s\tremaining: 111ms\n",
      "193:\tlearn: 0.3171900\ttotal: 3.07s\tremaining: 95ms\n",
      "194:\tlearn: 0.3159508\ttotal: 3.09s\tremaining: 79.3ms\n",
      "195:\tlearn: 0.3148585\ttotal: 3.1s\tremaining: 63.4ms\n",
      "196:\tlearn: 0.3136136\ttotal: 3.12s\tremaining: 47.5ms\n",
      "197:\tlearn: 0.3126433\ttotal: 3.13s\tremaining: 31.6ms\n",
      "198:\tlearn: 0.3113812\ttotal: 3.14s\tremaining: 15.8ms\n",
      "199:\tlearn: 0.3099498\ttotal: 3.16s\tremaining: 0us\n",
      "F1 Score for CAT boost is: 0.7305699481865285 and accuracy Score is: 0.7293076522644456\n"
     ]
    }
   ],
   "source": [
    "cat = CatBoostClassifier(n_estimators=200, random_state=12)\n",
    "\n",
    "cat.fit(x_train, y_train)\n",
    "cat_pred = cat.predict(x_test)\n",
    "\n",
    "print(f'F1 Score for CAT boost is: {f1_score(y_test, cat_pred)} and accuracy Score is: {accuracy_score(y_test, cat_pred)}')"
   ]
  },
  {
   "cell_type": "code",
   "execution_count": 20,
   "id": "6510a03c",
   "metadata": {},
   "outputs": [],
   "source": [
    "import pickle"
   ]
  },
  {
   "cell_type": "code",
   "execution_count": 21,
   "id": "90fe098c",
   "metadata": {},
   "outputs": [],
   "source": [
    "pickle.dump(cat, open('../Models/testing-model.pkl', 'wb'))"
   ]
  },
  {
   "cell_type": "code",
   "execution_count": 22,
   "id": "337a14e5",
   "metadata": {},
   "outputs": [],
   "source": [
    "model = pickle.load(open('../Models/testing-model.pkl', 'rb'))"
   ]
  },
  {
   "cell_type": "code",
   "execution_count": 23,
   "id": "37e7cebb",
   "metadata": {},
   "outputs": [
    {
     "ename": "AttributeError",
     "evalue": "'CatBoostClassifier' object has no attribute 'best_score__'",
     "output_type": "error",
     "traceback": [
      "\u001b[1;31m---------------------------------------------------------------------------\u001b[0m",
      "\u001b[1;31mAttributeError\u001b[0m                            Traceback (most recent call last)",
      "\u001b[1;32m<ipython-input-23-72fcce827e0d>\u001b[0m in \u001b[0;36m<module>\u001b[1;34m\u001b[0m\n\u001b[1;32m----> 1\u001b[1;33m \u001b[0mmodel\u001b[0m\u001b[1;33m.\u001b[0m\u001b[0mbest_score__\u001b[0m\u001b[1;33m\u001b[0m\u001b[1;33m\u001b[0m\u001b[0m\n\u001b[0m",
      "\u001b[1;31mAttributeError\u001b[0m: 'CatBoostClassifier' object has no attribute 'best_score__'"
     ]
    }
   ],
   "source": [
    "model.best_score__"
   ]
  },
  {
   "cell_type": "code",
   "execution_count": null,
   "id": "2364713c",
   "metadata": {},
   "outputs": [],
   "source": []
  }
 ],
 "metadata": {
  "kernelspec": {
   "display_name": "Python 3",
   "language": "python",
   "name": "python3"
  },
  "language_info": {
   "codemirror_mode": {
    "name": "ipython",
    "version": 3
   },
   "file_extension": ".py",
   "mimetype": "text/x-python",
   "name": "python",
   "nbconvert_exporter": "python",
   "pygments_lexer": "ipython3",
   "version": "3.9.5"
  }
 },
 "nbformat": 4,
 "nbformat_minor": 5
}
