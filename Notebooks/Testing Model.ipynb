{
 "cells": [
  {
   "cell_type": "code",
   "execution_count": 1,
   "id": "ff85294f",
   "metadata": {},
   "outputs": [],
   "source": [
    "import numpy as np\n",
    "import pandas as pd\n",
    "import seaborn as sns\n",
    "import matplotlib.pyplot as plt"
   ]
  },
  {
   "cell_type": "code",
   "execution_count": 2,
   "id": "c3391383",
   "metadata": {},
   "outputs": [],
   "source": [
    "pd.set_option('display.max_columns', 700)"
   ]
  },
  {
   "cell_type": "code",
   "execution_count": 3,
   "id": "3c4ef9a4",
   "metadata": {},
   "outputs": [],
   "source": [
    "df = pd.read_csv('../Data/prediction_data.csv', index_col='Unnamed: 0')"
   ]
  },
  {
   "cell_type": "code",
   "execution_count": 4,
   "id": "426dd608",
   "metadata": {},
   "outputs": [],
   "source": [
    "df.drop('attended', axis=1, inplace=True)"
   ]
  },
  {
   "cell_type": "code",
   "execution_count": 5,
   "id": "686cae26",
   "metadata": {},
   "outputs": [],
   "source": [
    "df_copy = df.dropna()"
   ]
  },
  {
   "cell_type": "code",
   "execution_count": 6,
   "id": "09d883b7",
   "metadata": {},
   "outputs": [],
   "source": [
    "final_df = pd.get_dummies(df_copy.drop(['fighter1', 'fighter2'], axis=1))"
   ]
  },
  {
   "cell_type": "code",
   "execution_count": 7,
   "id": "5ca93a1f",
   "metadata": {},
   "outputs": [],
   "source": [
    "# Importng \n",
    "\n",
    "from sklearn.metrics import f1_score, accuracy_score\n",
    "from sklearn.model_selection import train_test_split\n",
    "from sklearn.ensemble import RandomForestClassifier\n",
    "from xgboost import XGBClassifier\n",
    "from sklearn.linear_model import LogisticRegression\n",
    "from catboost import CatBoostClassifier"
   ]
  },
  {
   "cell_type": "code",
   "execution_count": 8,
   "id": "4736f698",
   "metadata": {},
   "outputs": [],
   "source": [
    "X = final_df.drop('winner', axis=1)\n",
    "Y = final_df['winner']"
   ]
  },
  {
   "cell_type": "code",
   "execution_count": 24,
   "id": "b8ad4a9e",
   "metadata": {},
   "outputs": [],
   "source": [
    "x_train, x_test, y_train, y_test = train_test_split(X, Y, test_size=.50, random_state=45)"
   ]
  },
  {
   "cell_type": "code",
   "execution_count": 20,
   "id": "2ed8c874",
   "metadata": {},
   "outputs": [],
   "source": [
    "import pickle"
   ]
  },
  {
   "cell_type": "code",
   "execution_count": 22,
   "id": "c30e3c61",
   "metadata": {},
   "outputs": [],
   "source": [
    "model = pickle.load(open('../Models/testing-model.pkl', 'rb'))"
   ]
  },
  {
   "cell_type": "code",
   "execution_count": 25,
   "id": "a7f4e47a",
   "metadata": {},
   "outputs": [
    {
     "name": "stdout",
     "output_type": "stream",
     "text": [
      "F1 Score for CAT boost is: 0.7305699481865285 and accuracy Score is: 0.7293076522644456\n"
     ]
    }
   ],
   "source": [
    "cat_pred = model.predict(x_test)\n",
    "\n",
    "print(f'F1 Score for CAT boost is: {f1_score(y_test, cat_pred)} and accuracy Score is: {accuracy_score(y_test, cat_pred)}')"
   ]
  },
  {
   "cell_type": "code",
   "execution_count": null,
   "id": "95334c57",
   "metadata": {},
   "outputs": [],
   "source": []
  }
 ],
 "metadata": {
  "kernelspec": {
   "display_name": "Python 3",
   "language": "python",
   "name": "python3"
  },
  "language_info": {
   "codemirror_mode": {
    "name": "ipython",
    "version": 3
   },
   "file_extension": ".py",
   "mimetype": "text/x-python",
   "name": "python",
   "nbconvert_exporter": "python",
   "pygments_lexer": "ipython3",
   "version": "3.9.5"
  }
 },
 "nbformat": 4,
 "nbformat_minor": 5
}
